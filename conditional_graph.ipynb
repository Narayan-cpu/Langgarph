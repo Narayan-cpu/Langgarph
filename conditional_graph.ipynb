{
 "cells": [
  {
   "cell_type": "code",
   "execution_count": 1,
   "id": "cefc72aa",
   "metadata": {},
   "outputs": [
    {
     "name": "stderr",
     "output_type": "stream",
     "text": [
      "\n",
      "[notice] A new release of pip is available: 25.0 -> 25.2\n",
      "[notice] To update, run: python.exe -m pip install --upgrade pip\n"
     ]
    },
    {
     "name": "stdout",
     "output_type": "stream",
     "text": [
      "Requirement already satisfied: langgraph in c:\\users\\naray\\appdata\\local\\programs\\python\\python311\\lib\\site-packages (0.6.6)\n",
      "Requirement already satisfied: langchain-core>=0.1 in c:\\users\\naray\\appdata\\local\\programs\\python\\python311\\lib\\site-packages (from langgraph) (0.3.75)\n",
      "Requirement already satisfied: langgraph-checkpoint<3.0.0,>=2.1.0 in c:\\users\\naray\\appdata\\local\\programs\\python\\python311\\lib\\site-packages (from langgraph) (2.1.1)\n",
      "Requirement already satisfied: langgraph-prebuilt<0.7.0,>=0.6.0 in c:\\users\\naray\\appdata\\local\\programs\\python\\python311\\lib\\site-packages (from langgraph) (0.6.4)\n",
      "Requirement already satisfied: langgraph-sdk<0.3.0,>=0.2.2 in c:\\users\\naray\\appdata\\local\\programs\\python\\python311\\lib\\site-packages (from langgraph) (0.2.6)\n",
      "Requirement already satisfied: pydantic>=2.7.4 in c:\\users\\naray\\appdata\\local\\programs\\python\\python311\\lib\\site-packages (from langgraph) (2.11.2)\n",
      "Requirement already satisfied: xxhash>=3.5.0 in c:\\users\\naray\\appdata\\local\\programs\\python\\python311\\lib\\site-packages (from langgraph) (3.5.0)\n",
      "Requirement already satisfied: langsmith>=0.3.45 in c:\\users\\naray\\appdata\\local\\programs\\python\\python311\\lib\\site-packages (from langchain-core>=0.1->langgraph) (0.4.23)\n",
      "Requirement already satisfied: tenacity!=8.4.0,<10.0.0,>=8.1.0 in c:\\users\\naray\\appdata\\local\\programs\\python\\python311\\lib\\site-packages (from langchain-core>=0.1->langgraph) (8.2.3)\n",
      "Requirement already satisfied: jsonpatch<2.0,>=1.33 in c:\\users\\naray\\appdata\\local\\programs\\python\\python311\\lib\\site-packages (from langchain-core>=0.1->langgraph) (1.33)\n",
      "Requirement already satisfied: PyYAML>=5.3 in c:\\users\\naray\\appdata\\local\\programs\\python\\python311\\lib\\site-packages (from langchain-core>=0.1->langgraph) (6.0.1)\n",
      "Requirement already satisfied: typing-extensions>=4.7 in c:\\users\\naray\\appdata\\local\\programs\\python\\python311\\lib\\site-packages (from langchain-core>=0.1->langgraph) (4.12.2)\n",
      "Requirement already satisfied: packaging>=23.2 in c:\\users\\naray\\appdata\\local\\programs\\python\\python311\\lib\\site-packages (from langchain-core>=0.1->langgraph) (23.2)\n",
      "Requirement already satisfied: ormsgpack>=1.10.0 in c:\\users\\naray\\appdata\\local\\programs\\python\\python311\\lib\\site-packages (from langgraph-checkpoint<3.0.0,>=2.1.0->langgraph) (1.10.0)\n",
      "Requirement already satisfied: httpx>=0.25.2 in c:\\users\\naray\\appdata\\local\\programs\\python\\python311\\lib\\site-packages (from langgraph-sdk<0.3.0,>=0.2.2->langgraph) (0.26.0)\n",
      "Requirement already satisfied: orjson>=3.10.1 in c:\\users\\naray\\appdata\\local\\programs\\python\\python311\\lib\\site-packages (from langgraph-sdk<0.3.0,>=0.2.2->langgraph) (3.10.16)\n",
      "Requirement already satisfied: annotated-types>=0.6.0 in c:\\users\\naray\\appdata\\local\\programs\\python\\python311\\lib\\site-packages (from pydantic>=2.7.4->langgraph) (0.6.0)\n",
      "Requirement already satisfied: pydantic-core==2.33.1 in c:\\users\\naray\\appdata\\local\\programs\\python\\python311\\lib\\site-packages (from pydantic>=2.7.4->langgraph) (2.33.1)\n",
      "Requirement already satisfied: typing-inspection>=0.4.0 in c:\\users\\naray\\appdata\\local\\programs\\python\\python311\\lib\\site-packages (from pydantic>=2.7.4->langgraph) (0.4.0)\n",
      "Requirement already satisfied: anyio in c:\\users\\naray\\appdata\\local\\programs\\python\\python311\\lib\\site-packages (from httpx>=0.25.2->langgraph-sdk<0.3.0,>=0.2.2->langgraph) (4.2.0)\n",
      "Requirement already satisfied: certifi in c:\\users\\naray\\appdata\\local\\programs\\python\\python311\\lib\\site-packages (from httpx>=0.25.2->langgraph-sdk<0.3.0,>=0.2.2->langgraph) (2023.11.17)\n",
      "Requirement already satisfied: httpcore==1.* in c:\\users\\naray\\appdata\\local\\programs\\python\\python311\\lib\\site-packages (from httpx>=0.25.2->langgraph-sdk<0.3.0,>=0.2.2->langgraph) (1.0.2)\n",
      "Requirement already satisfied: idna in c:\\users\\naray\\appdata\\local\\programs\\python\\python311\\lib\\site-packages (from httpx>=0.25.2->langgraph-sdk<0.3.0,>=0.2.2->langgraph) (3.6)\n",
      "Requirement already satisfied: sniffio in c:\\users\\naray\\appdata\\local\\programs\\python\\python311\\lib\\site-packages (from httpx>=0.25.2->langgraph-sdk<0.3.0,>=0.2.2->langgraph) (1.3.0)\n",
      "Requirement already satisfied: h11<0.15,>=0.13 in c:\\users\\naray\\appdata\\local\\programs\\python\\python311\\lib\\site-packages (from httpcore==1.*->httpx>=0.25.2->langgraph-sdk<0.3.0,>=0.2.2->langgraph) (0.14.0)\n",
      "Requirement already satisfied: jsonpointer>=1.9 in c:\\users\\naray\\appdata\\local\\programs\\python\\python311\\lib\\site-packages (from jsonpatch<2.0,>=1.33->langchain-core>=0.1->langgraph) (2.4)\n",
      "Requirement already satisfied: requests-toolbelt>=1.0.0 in c:\\users\\naray\\appdata\\local\\programs\\python\\python311\\lib\\site-packages (from langsmith>=0.3.45->langchain-core>=0.1->langgraph) (1.0.0)\n",
      "Requirement already satisfied: requests>=2.0.0 in c:\\users\\naray\\appdata\\local\\programs\\python\\python311\\lib\\site-packages (from langsmith>=0.3.45->langchain-core>=0.1->langgraph) (2.31.0)\n",
      "Requirement already satisfied: zstandard>=0.23.0 in c:\\users\\naray\\appdata\\local\\programs\\python\\python311\\lib\\site-packages (from langsmith>=0.3.45->langchain-core>=0.1->langgraph) (0.23.0)\n",
      "Requirement already satisfied: charset-normalizer<4,>=2 in c:\\users\\naray\\appdata\\local\\programs\\python\\python311\\lib\\site-packages (from requests>=2.0.0->langsmith>=0.3.45->langchain-core>=0.1->langgraph) (3.3.2)\n",
      "Requirement already satisfied: urllib3<3,>=1.21.1 in c:\\users\\naray\\appdata\\local\\programs\\python\\python311\\lib\\site-packages (from requests>=2.0.0->langsmith>=0.3.45->langchain-core>=0.1->langgraph) (2.1.0)\n",
      "Note: you may need to restart the kernel to use updated packages.\n"
     ]
    }
   ],
   "source": [
    "%pip install langgraph\n",
    "from typing import Dict,TypedDict\n",
    "from langgraph.graph import StateGraph,START,END"
   ]
  },
  {
   "cell_type": "code",
   "execution_count": 2,
   "id": "e1987c1a",
   "metadata": {},
   "outputs": [],
   "source": [
    "class AgentState(TypedDict):\n",
    "    num1:int\n",
    "    operation:str\n",
    "    num2:int\n",
    "    result:int"
   ]
  },
  {
   "cell_type": "code",
   "execution_count": 11,
   "id": "d5412f17",
   "metadata": {},
   "outputs": [],
   "source": [
    "def add_node(state:AgentState)->AgentState:\n",
    "    \"\"\"Node to add two numbers\"\"\"\n",
    "    state[\"result\"]=state[\"num1\"]+state[\"num2\"]\n",
    "    return state\n",
    "def sub_node(state:AgentState)->AgentState:\n",
    "    \"\"\"Node to subtract two numbers\"\"\"\n",
    "    state[\"result\"]=state[\"num1\"]-state[\"num2\"]\n",
    "    return state\n",
    "def conditional_node(state:AgentState)->str:\n",
    "    \"\"\"Conditional Node to choose operation\"\"\"\n",
    "    if state[\"operation\"]==\"+\":\n",
    "        return \"add\"\n",
    "    elif state[\"operation\"]==\"-\":\n",
    "        return \"sub\""
   ]
  },
  {
   "cell_type": "code",
   "execution_count": 12,
   "id": "d823bc48",
   "metadata": {},
   "outputs": [],
   "source": [
    "graph=StateGraph(AgentState)\n",
    "graph.add_node(\"addition\",add_node)\n",
    "graph.add_node(\"subtraction\",sub_node)\n",
    "graph.add_node(\"condition\",lambda state: state)\n",
    "graph.add_edge(START,\"condition\")\n",
    "graph.add_conditional_edges(\n",
    "    \"condition\",conditional_node,{\n",
    "        \"add\":\"addition\",\n",
    "        \"sub\":\"subtraction\"\n",
    "    }\n",
    ")\n",
    "graph.add_edge(\"addition\",END)\n",
    "graph.add_edge(\"subtraction\",END)\n",
    "app=graph.compile()"
   ]
  },
  {
   "cell_type": "code",
   "execution_count": 13,
   "id": "d838ae06",
   "metadata": {},
   "outputs": [
    {
     "data": {
      "image/png": "[encoded data removed]",
      "text/plain": [
       "<IPython.core.display.Image object>"
      ]
     },
     "metadata": {},
     "output_type": "display_data"
    }
   ],
   "source": [
    "from IPython.display import display,Image\n",
    "display(Image(app.get_graph().draw_mermaid_png()))"
   ]
  },
  {
   "cell_type": "code",
   "execution_count": 14,
   "id": "528ab4d2",
   "metadata": {},
   "outputs": [
    {
     "data": {
      "text/plain": [
       "{'num1': 10, 'operation': '+', 'num2': 5, 'result': 15}"
      ]
     },
     "execution_count": 14,
     "metadata": {},
     "output_type": "execute_result"
    }
   ],
   "source": [
    "app.invoke({\"num1\":10,\"operation\":\"+\",\"num2\":5})"
   ]
  },
  {
   "cell_type": "code",
   "execution_count": 16,
   "id": "96734dde",
   "metadata": {},
   "outputs": [
    {
     "data": {
      "text/plain": [
       "{'num1': 10, 'operation': '-', 'num2': 5, 'result': 5}"
      ]
     },
     "execution_count": 16,
     "metadata": {},
     "output_type": "execute_result"
    }
   ],
   "source": [
    "app.invoke({\"num1\":10,\"operation\":\"-\",\"num2\":5})"
   ]
  },
  {
   "cell_type": "code",
   "execution_count": null,
   "id": "d25bc5a2",
   "metadata": {},
   "outputs": [],
   "source": []
  }
 ],
 "metadata": {
  "kernelspec": {
   "display_name": "Python 3",
   "language": "python",
   "name": "python3"
  },
  "language_info": {
   "codemirror_mode": {
    "name": "ipython",
    "version": 3
   },
   "file_extension": ".py",
   "mimetype": "text/x-python",
   "name": "python",
   "nbconvert_exporter": "python",
   "pygments_lexer": "ipython3",
   "version": "3.11.2"
  }
 },
 "nbformat": 4,
 "nbformat_minor": 5
}
